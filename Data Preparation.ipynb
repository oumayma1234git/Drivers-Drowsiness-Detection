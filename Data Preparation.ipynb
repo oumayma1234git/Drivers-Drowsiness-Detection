{
 "cells": [
  {
   "cell_type": "code",
   "execution_count": 1,
   "metadata": {},
   "outputs": [],
   "source": [
    "import os\n",
    "import shutil\n",
    "import glob\n",
    "from tqdm import tqdm"
   ]
  },
  {
   "cell_type": "markdown",
   "metadata": {},
   "source": [
    "#\n",
    "subject ID:\n",
    "xxx\n",
    "\n",
    "image number:\n",
    "xxx\n",
    "\n",
    "gender:\n",
    "0 - male\n",
    "1 - famale\n",
    "\n",
    "glasses:\n",
    "0 - no\n",
    "1 - yes\n",
    "\n",
    "eye state:\n",
    "0 - close\n",
    "1 - open\n",
    "\n",
    "reflections:\n",
    "0 - none\n",
    "1 - low\n",
    "2 - high\n",
    "\n",
    "lighting conditions/image quality:\n",
    "0 - bad\n",
    "1 - good\n",
    "\n",
    "sensor type:\n",
    "01 - RealSense SR300 640x480\n",
    "02 - IDS Imaging, 1280x1024\n",
    "03 - Aptina Imagin 752x480\n",
    "\n",
    "example:\n",
    "s001_00123_0_0_0_0_0_01.png"
   ]
  },
  {
   "cell_type": "code",
   "execution_count": 2,
   "metadata": {},
   "outputs": [
    {
     "name": "stderr",
     "output_type": "stream",
     "text": [
      "0it [00:00, ?it/s]\n",
      "100%|██████████| 3242/3242 [00:03<00:00, 830.16it/s]\n",
      "100%|██████████| 1114/1114 [00:01<00:00, 625.07it/s]\n",
      "100%|██████████| 679/679 [00:01<00:00, 518.40it/s]\n",
      "100%|██████████| 1069/1069 [00:01<00:00, 591.41it/s]\n",
      "100%|██████████| 736/736 [00:01<00:00, 614.20it/s]\n",
      "100%|██████████| 1012/1012 [00:02<00:00, 374.55it/s]\n",
      "100%|██████████| 624/624 [00:01<00:00, 577.64it/s]\n",
      "100%|██████████| 832/832 [00:01<00:00, 722.07it/s]\n",
      "100%|██████████| 387/387 [00:00<00:00, 762.53it/s]\n",
      "100%|██████████| 399/399 [00:00<00:00, 514.23it/s]\n",
      "100%|██████████| 1648/1648 [00:02<00:00, 550.37it/s]\n",
      "100%|██████████| 8728/8728 [00:16<00:00, 520.73it/s]\n",
      "100%|██████████| 3605/3605 [00:05<00:00, 698.21it/s]\n",
      "100%|██████████| 8884/8884 [00:23<00:00, 371.91it/s]\n",
      "100%|██████████| 1132/1132 [00:05<00:00, 208.26it/s]\n",
      "100%|██████████| 1889/1889 [00:04<00:00, 464.36it/s]\n",
      "100%|██████████| 1648/1648 [00:03<00:00, 435.41it/s]\n",
      "100%|██████████| 4410/4410 [00:13<00:00, 338.41it/s]\n",
      "100%|██████████| 2712/2712 [00:07<00:00, 344.16it/s]\n"
     ]
    }
   ],
   "source": [
    "Raw_DIR= r'C:\\Users\\LENOVO\\Desktop\\deep leraning project\\MRL eye data\\mrlEyes_2018_01'\n",
    "for dirpath, dirname, filenames in os.walk(Raw_DIR):\n",
    "    for i in tqdm([f for f in filenames if f.endswith('.png')]):\n",
    "        if i.split('_')[4]=='0':\n",
    "            shutil.copy(src=dirpath+'/'+i, dst=r'C:\\Users\\LENOVO\\Desktop\\deep leraning project\\MRL eye data\\prepared_data\\Close Eyes')\n",
    "        \n",
    "        elif i.split('_')[4]=='1':\n",
    "            shutil.copy(src=dirpath+'/'+i, dst=r'C:\\Users\\LENOVO\\Desktop\\deep leraning project\\MRL eye data\\prepared_data\\Open Eyes')\n"
   ]
  },
  {
   "cell_type": "code",
   "execution_count": null,
   "metadata": {},
   "outputs": [],
   "source": []
  },
  {
   "cell_type": "code",
   "execution_count": null,
   "metadata": {},
   "outputs": [],
   "source": []
  }
 ],
 "metadata": {
  "kernelspec": {
   "display_name": "Python 3 (ipykernel)",
   "language": "python",
   "name": "python3"
  },
  "language_info": {
   "codemirror_mode": {
    "name": "ipython",
    "version": 3
   },
   "file_extension": ".py",
   "mimetype": "text/x-python",
   "name": "python",
   "nbconvert_exporter": "python",
   "pygments_lexer": "ipython3",
   "version": "3.9.12"
  }
 },
 "nbformat": 4,
 "nbformat_minor": 4
}
